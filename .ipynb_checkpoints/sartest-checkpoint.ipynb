{
 "cells": [
  {
   "cell_type": "code",
   "execution_count": 1,
   "id": "f6f7af74",
   "metadata": {},
   "outputs": [
    {
     "ename": "ModuleNotFoundError",
     "evalue": "No module named 'mintpy'",
     "output_type": "error",
     "traceback": [
      "\u001b[0;31m---------------------------------------------------------------------------\u001b[0m",
      "\u001b[0;31mModuleNotFoundError\u001b[0m                       Traceback (most recent call last)",
      "Input \u001b[0;32mIn [1]\u001b[0m, in \u001b[0;36m<cell line: 5>\u001b[0;34m()\u001b[0m\n\u001b[1;32m      3\u001b[0m \u001b[38;5;28;01mimport\u001b[39;00m \u001b[38;5;21;01mnumpy\u001b[39;00m \u001b[38;5;28;01mas\u001b[39;00m \u001b[38;5;21;01mnp\u001b[39;00m\n\u001b[1;32m      4\u001b[0m \u001b[38;5;28;01mimport\u001b[39;00m \u001b[38;5;21;01mmatplotlib\u001b[39;00m\u001b[38;5;21;01m.\u001b[39;00m\u001b[38;5;21;01mpyplot\u001b[39;00m \u001b[38;5;28;01mas\u001b[39;00m \u001b[38;5;21;01mplt\u001b[39;00m\n\u001b[0;32m----> 5\u001b[0m \u001b[38;5;28;01mfrom\u001b[39;00m \u001b[38;5;21;01mmintpy\u001b[39;00m\u001b[38;5;21;01m.\u001b[39;00m\u001b[38;5;21;01mobjects\u001b[39;00m \u001b[38;5;28;01mimport\u001b[39;00m ifgramStack\n\u001b[1;32m      6\u001b[0m \u001b[38;5;28;01mfrom\u001b[39;00m \u001b[38;5;21;01mmintpy\u001b[39;00m\u001b[38;5;21;01m.\u001b[39;00m\u001b[38;5;21;01mutils\u001b[39;00m \u001b[38;5;28;01mimport\u001b[39;00m plot \u001b[38;5;28;01mas\u001b[39;00m pp, utils \u001b[38;5;28;01mas\u001b[39;00m ut\n\u001b[1;32m      7\u001b[0m \u001b[38;5;28;01mfrom\u001b[39;00m \u001b[38;5;21;01mmintpy\u001b[39;00m \u001b[38;5;28;01mimport\u001b[39;00m view, plot_network\n",
      "\u001b[0;31mModuleNotFoundError\u001b[0m: No module named 'mintpy'"
     ]
    }
   ],
   "source": [
    "%matplotlib inline\n",
    "import os\n",
    "import numpy as np\n",
    "import matplotlib.pyplot as plt\n",
    "from mintpy.objects import ifgramStack\n",
    "from mintpy.utils import plot as pp, utils as ut\n",
    "from mintpy import view, plot_network\n"
   ]
  },
  {
   "cell_type": "code",
   "execution_count": 2,
   "id": "d887f4a8",
   "metadata": {},
   "outputs": [
    {
     "name": "stdout",
     "output_type": "stream",
     "text": [
      "Go to work directory: /Users/igaszczesniak/data/test\n"
     ]
    }
   ],
   "source": [
    "# define work directory\n",
    "work_dir = os.path.expanduser('~/data/test')\n",
    "os.makedirs(work_dir, exist_ok=True)\n",
    "os.chdir(work_dir)\n",
    "print('Go to work directory: {}'.format(work_dir))"
   ]
  },
  {
   "cell_type": "code",
   "execution_count": 3,
   "id": "d25254ef",
   "metadata": {},
   "outputs": [
    {
     "name": "stdout",
     "output_type": "stream",
     "text": [
      "--2022-09-06 14:43:51--  https://zenodo.org/record/6539952/files/PichinchaSenDT142.zip\n",
      "Resolving zenodo.org (zenodo.org)... 188.184.117.155\n",
      "Connecting to zenodo.org (zenodo.org)|188.184.117.155|:443... connected.\n",
      "HTTP request sent, awaiting response... 200 OK\n",
      "Length: 318752083 (304M) [application/octet-stream]\n",
      "Saving to: 'PichinchaSenDT142.zip'\n",
      "\n",
      "PichinchaSenDT142.z 100%[===================>] 303.99M  2.92MB/s    in 1m 46s  \n",
      "\n",
      "2022-09-06 14:45:39 (2.86 MB/s) - 'PichinchaSenDT142.zip' saved [318752083/318752083]\n",
      "\n"
     ]
    }
   ],
   "source": [
    "# download example dataset\n",
    "url = 'https://zenodo.org/record/6539952/files/PichinchaSenDT142.zip'\n",
    "zip_file = os.path.basename(url)\n",
    "proj_name = zip_file.split('.')[0]\n",
    "if not os.path.isfile(zip_file):\n",
    "    !wget {url}\n",
    "else:\n",
    "    print('{} exists, skip re-download.'.format(zip_file))"
   ]
  },
  {
   "cell_type": "code",
   "execution_count": 4,
   "id": "bfcf5199",
   "metadata": {},
   "outputs": [
    {
     "name": "stdout",
     "output_type": "stream",
     "text": [
      "uncompressing the zip file ...\n"
     ]
    }
   ],
   "source": [
    "# uncompress example dataset\n",
    "if not os.path.isdir(proj_name):\n",
    "    print('uncompressing the zip file ...')\n",
    "    !unzip -q {zip_file}"
   ]
  },
  {
   "cell_type": "code",
   "execution_count": 5,
   "id": "886c6cf2",
   "metadata": {},
   "outputs": [
    {
     "name": "stdout",
     "output_type": "stream",
     "text": [
      "Go to project directory: /Users/igaszczesniak/data/test/PichinchaSenDT142\n"
     ]
    }
   ],
   "source": [
    "# go to project directory\n",
    "proj_dir = os.path.join(work_dir, proj_name)\n",
    "os.chdir(proj_dir)\n",
    "print('Go to project directory: {}'.format(proj_dir))"
   ]
  },
  {
   "cell_type": "code",
   "execution_count": 6,
   "id": "59e527a8",
   "metadata": {},
   "outputs": [
    {
     "ename": "SyntaxError",
     "evalue": "invalid syntax (3329923453.py, line 9)",
     "output_type": "error",
     "traceback": [
      "\u001b[0;36m  Input \u001b[0;32mIn [6]\u001b[0;36m\u001b[0m\n\u001b[0;31m    miaplpy.load.slcFile        = ../merged/SLC/*/*.slc.full  #[path2slc_file]\u001b[0m\n\u001b[0m                                  ^\u001b[0m\n\u001b[0;31mSyntaxError\u001b[0m\u001b[0;31m:\u001b[0m invalid syntax\n"
     ]
    }
   ],
   "source": [
    "########## 1. Load Data (--load to exit after this step)\n",
    "## load_slc_geometry.py -H to check more details and example inputs.\n",
    "\n",
    "miaplpy.load.processor      = isce  #[isce,snap,gamma,roipac], auto for isceTops\n",
    "miaplpy.load.updateMode     = auto  #[yes / no], auto for yes, skip re-loading if HDF5 files are complete\n",
    "miaplpy.load.compression    = auto  #[gzip / lzf / no], auto for no.\n",
    "miaplpy.load.autoPath       = auto    # [yes, no] auto for no\n",
    "##---------Coregistered SLC images:        \n",
    "miaplpy.load.slcFile        = ../merged/SLC/*/*.slc.full  #[path2slc_file]\n",
    "##---------for ISCE only:\n",
    "miaplpy.load.metaFile       = ../reference/IW*.xml\n",
    "miaplpy.load.baselineDir    = ../baselines\n",
    "##---------geometry datasets:\n",
    "miaplpy.load.demFile          = ../merged/geom_reference/hgt.rdr.full\n",
    "miaplpy.load.lookupYFile      = ../merged/geom_reference/lat.rdr.full\n",
    "miaplpy.load.lookupXFile      = ../merged/geom_reference/lon.rdr.full\n",
    "miaplpy.load.incAngleFile     = ../merged/geom_reference/los.rdr.full\n",
    "miaplpy.load.azAngleFile      = ../merged/geom_reference/los.rdr.full\n",
    "miaplpy.load.shadowMaskFile   = ../merged/geom_reference/shadowMask.rdr.full\n",
    "miaplpy.load.waterMaskFile    = None\n",
    "##---------interferogram datasets:\n",
    "miaplpy.load.unwFile        = ./inverted/interferograms_single_reference/*/*fine*.unw\n",
    "miaplpy.load.corFile        = ./inverted/interferograms_single_reference/*/*fine*.cor\n",
    "miaplpy.load.connCompFile   = ./inverted/interferograms_single_reference/*/*.unw.conncomp\n",
    "\n",
    "##---------subset (optional):\n",
    "## if both yx and lalo are specified, use lalo option unless a) no lookup file AND b) dataset is in radar coord\n",
    "miaplpy.subset.lalo         = -0.199:-0.142,-78.612:-78.578\n",
    "\n",
    "# MiaplPy options\n",
    "miaplpy.compute.numCores   = 8\n",
    "miaplpy.interferograms.type = single_reference\n",
    "\n",
    "## Mintpy options\n",
    "mintpy.compute.cluster     = local  # if dask is not available, set this option to no\n",
    "mintpy.compute.numWorker   = 8"
   ]
  },
  {
   "cell_type": "code",
   "execution_count": null,
   "id": "dc6ab03e",
   "metadata": {},
   "outputs": [],
   "source": []
  }
 ],
 "metadata": {
  "kernelspec": {
   "display_name": "Python 3 (ipykernel)",
   "language": "python",
   "name": "python3"
  },
  "language_info": {
   "codemirror_mode": {
    "name": "ipython",
    "version": 3
   },
   "file_extension": ".py",
   "mimetype": "text/x-python",
   "name": "python",
   "nbconvert_exporter": "python",
   "pygments_lexer": "ipython3",
   "version": "3.9.12"
  }
 },
 "nbformat": 4,
 "nbformat_minor": 5
}
