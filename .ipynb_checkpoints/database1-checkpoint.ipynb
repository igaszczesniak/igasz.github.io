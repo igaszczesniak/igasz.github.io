{
 "cells": [
  {
   "cell_type": "code",
   "execution_count": 1,
   "id": "b791fb3c",
   "metadata": {},
   "outputs": [],
   "source": [
    "using Pkg\n",
    "using DataFrames\n",
    "using CSV\n",
    "using MySQL\n",
    "using DBInterface\n",
    "using Test, MySQL, DBInterface, Tables, Dates, DecFP"
   ]
  },
  {
   "cell_type": "code",
   "execution_count": 2,
   "id": "0c57edf1",
   "metadata": {},
   "outputs": [],
   "source": [
    "sens = CSV.read(\"/Users/igaszczesniak/Desktop/SAP/Sensors.csv\", DataFrame); "
   ]
  },
  {
   "cell_type": "code",
   "execution_count": 1,
   "id": "88a00da6",
   "metadata": {},
   "outputs": [
    {
     "name": "stdout",
     "output_type": "stream",
     "text": [
      "Julia Version 1.8.0\n",
      "Commit 5544a0fab76 (2022-08-17 13:38 UTC)\n",
      "Platform Info:\n",
      "  OS: macOS (x86_64-apple-darwin21.4.0)\n",
      "  CPU: 8 × Intel(R) Core(TM) i5-1038NG7 CPU @ 2.00GHz\n",
      "  WORD_SIZE: 64\n",
      "  LIBM: libopenlibm\n",
      "  LLVM: libLLVM-13.0.1 (ORCJIT, icelake-client)\n",
      "  Threads: 1 on 8 virtual cores\n"
     ]
    }
   ],
   "source": [
    "versioninfo()"
   ]
  },
  {
   "cell_type": "code",
   "execution_count": 3,
   "id": "8e707794",
   "metadata": {},
   "outputs": [
    {
     "name": "stdout",
     "output_type": "stream",
     "text": [
      "typeof(sens) = DataFrame\n"
     ]
    },
    {
     "data": {
      "text/html": [
       "<div class=\"data-frame\"><p>10 rows × 6 columns</p><table class=\"data-frame\"><thead><tr><th></th><th>timestamp</th><th>id_unicol</th><th>station_id</th><th>sector_id</th><th>latitude_deg</th><th>longitude_deg</th></tr><tr><th></th><th title=\"Union{Missing, String31}\">String31?</th><th title=\"String3\">String3</th><th title=\"String31\">String31</th><th title=\"Union{Missing, String3}\">String3?</th><th title=\"Union{Missing, Float64}\">Float64?</th><th title=\"Union{Missing, Float64}\">Float64?</th></tr></thead><tbody><tr><th>1</th><td>20/12/2021 00:00</td><td>A</td><td>09595 Decentlab</td><td>K21</td><td>38.7079</td><td>-27.1412</td></tr><tr><th>2</th><td>21/01/2022 00:00</td><td>B</td><td>09596 Decentlab</td><td>I23</td><td>38.7242</td><td>-27.1085</td></tr><tr><th>3</th><td>17/06/2022 00:00</td><td>1</td><td>00137A10000157A7</td><td>L19</td><td>38.6983</td><td>-27.1712</td></tr><tr><th>4</th><td>05/07/2022 08:40</td><td>2</td><td>00137A1000015794</td><td>L24</td><td>38.7002</td><td>-27.1029</td></tr><tr><th>5</th><td>05/07/2022 08:40</td><td>3</td><td>00137A1000015795</td><td>L24</td><td>38.7002</td><td>-27.1029</td></tr><tr><th>6</th><td>05/07/2022 18:00</td><td>4</td><td>00137A100001579A</td><td>B15</td><td>38.7868</td><td>-27.2123</td></tr><tr><th>7</th><td>06/07/2022 10:40</td><td>5</td><td>00137A1000015798</td><td>C5</td><td>38.7803</td><td>-27.3305</td></tr><tr><th>8</th><td>06/07/2022 11:00</td><td>6</td><td>00137A100001579D</td><td>E8</td><td>38.765</td><td>-27.2882</td></tr><tr><th>9</th><td>05/07/2022 19:00</td><td>7</td><td>00137A100001579B</td><td>M21</td><td>38.6872</td><td>-27.1443</td></tr><tr><th>10</th><td>04/07/2022 16:20</td><td>8</td><td>00137A100001579C</td><td>K3</td><td>38.7067</td><td>-27.3498</td></tr></tbody></table></div>"
      ],
      "text/latex": [
       "\\begin{tabular}{r|cccccc}\n",
       "\t& timestamp & id\\_unicol & station\\_id & sector\\_id & latitude\\_deg & longitude\\_deg\\\\\n",
       "\t\\hline\n",
       "\t& String31? & String3 & String31 & String3? & Float64? & Float64?\\\\\n",
       "\t\\hline\n",
       "\t1 & 20/12/2021 00:00 & A & 09595 Decentlab & K21 & 38.7079 & -27.1412 \\\\\n",
       "\t2 & 21/01/2022 00:00 & B & 09596 Decentlab & I23 & 38.7242 & -27.1085 \\\\\n",
       "\t3 & 17/06/2022 00:00 & 1 & 00137A10000157A7 & L19 & 38.6983 & -27.1712 \\\\\n",
       "\t4 & 05/07/2022 08:40 & 2 & 00137A1000015794 & L24 & 38.7002 & -27.1029 \\\\\n",
       "\t5 & 05/07/2022 08:40 & 3 & 00137A1000015795 & L24 & 38.7002 & -27.1029 \\\\\n",
       "\t6 & 05/07/2022 18:00 & 4 & 00137A100001579A & B15 & 38.7868 & -27.2123 \\\\\n",
       "\t7 & 06/07/2022 10:40 & 5 & 00137A1000015798 & C5 & 38.7803 & -27.3305 \\\\\n",
       "\t8 & 06/07/2022 11:00 & 6 & 00137A100001579D & E8 & 38.765 & -27.2882 \\\\\n",
       "\t9 & 05/07/2022 19:00 & 7 & 00137A100001579B & M21 & 38.6872 & -27.1443 \\\\\n",
       "\t10 & 04/07/2022 16:20 & 8 & 00137A100001579C & K3 & 38.7067 & -27.3498 \\\\\n",
       "\\end{tabular}\n"
      ],
      "text/plain": [
       "\u001b[1m10×6 DataFrame\u001b[0m\n",
       "\u001b[1m Row \u001b[0m│\u001b[1m timestamp        \u001b[0m\u001b[1m id_unicol \u001b[0m\u001b[1m station_id       \u001b[0m\u001b[1m sector_id \u001b[0m\u001b[1m latitude_deg \u001b[0m\u001b[1m\u001b[0m ⋯\n",
       "\u001b[1m     \u001b[0m│\u001b[90m String31?        \u001b[0m\u001b[90m String3   \u001b[0m\u001b[90m String31         \u001b[0m\u001b[90m String3?  \u001b[0m\u001b[90m Float64?     \u001b[0m\u001b[90m\u001b[0m ⋯\n",
       "─────┼──────────────────────────────────────────────────────────────────────────\n",
       "   1 │ 20/12/2021 00:00  A          09595 Decentlab   K21             38.7079  ⋯\n",
       "   2 │ 21/01/2022 00:00  B          09596 Decentlab   I23             38.7242\n",
       "   3 │ 17/06/2022 00:00  1          00137A10000157A7  L19             38.6983\n",
       "   4 │ 05/07/2022 08:40  2          00137A1000015794  L24             38.7002\n",
       "   5 │ 05/07/2022 08:40  3          00137A1000015795  L24             38.7002  ⋯\n",
       "   6 │ 05/07/2022 18:00  4          00137A100001579A  B15             38.7868\n",
       "   7 │ 06/07/2022 10:40  5          00137A1000015798  C5              38.7803\n",
       "   8 │ 06/07/2022 11:00  6          00137A100001579D  E8              38.765\n",
       "   9 │ 05/07/2022 19:00  7          00137A100001579B  M21             38.6872  ⋯\n",
       "  10 │ 04/07/2022 16:20  8          00137A100001579C  K3              38.7067\n",
       "\u001b[36m                                                                1 column omitted\u001b[0m"
      ]
     },
     "execution_count": 3,
     "metadata": {},
     "output_type": "execute_result"
    }
   ],
   "source": [
    "@show typeof(sens)\n",
    "sens[1:10,:]"
   ]
  },
  {
   "cell_type": "code",
   "execution_count": 4,
   "id": "58adf0cc",
   "metadata": {},
   "outputs": [],
   "source": [
    "headlines = [\"timestamp\", \"id_unicol\", \"station_id\",\"sector_id\", \"latitude_deg\", \"longitude_deg\"];\n",
    "n = names(sens);\n",
    "R,C = size(sens);"
   ]
  },
  {
   "cell_type": "code",
   "execution_count": 5,
   "id": "6b829f12",
   "metadata": {},
   "outputs": [
    {
     "name": "stdout",
     "output_type": "stream",
     "text": [
      "Connect to the database\n"
     ]
    }
   ],
   "source": [
    "if (C == 6) && (n == headlines)\n",
    "    println(\"Connect to the database\")\n",
    "else \n",
    "    error(\"Incorrect number of columns or rows\")\n",
    "end"
   ]
  },
  {
   "cell_type": "code",
   "execution_count": 6,
   "id": "c995d687",
   "metadata": {},
   "outputs": [],
   "source": [
    "#conn_tst = DBInterface.connect(MySQL.Connection, \"localhost\", \"root\", \"Nero.2009\",db=\"sys\")"
   ]
  },
  {
   "cell_type": "code",
   "execution_count": 7,
   "id": "9d6e7b41",
   "metadata": {
    "scrolled": true
   },
   "outputs": [
    {
     "ename": "LoadError",
     "evalue": "(2002): Can't connect to server on 'db-mysql-lon1-ac-01-do-user-7425280-0.a.db.ondigitalocean.com' (60)",
     "output_type": "error",
     "traceback": [
      "(2002): Can't connect to server on 'db-mysql-lon1-ac-01-do-user-7425280-0.a.db.ondigitalocean.com' (60)",
      "",
      "Stacktrace:",
      " [1] connect",
      "   @ ~/.julia/packages/MySQL/3VbD5/src/api/capi.jl:12 [inlined]",
      " [2] MySQL.Connection(host::String, user::String, passwd::String, db::String, port::Int64, unix_socket::String; kw::Base.Pairs{Symbol, Union{}, Tuple{}, NamedTuple{(), Tuple{}}})",
      "   @ MySQL ~/.julia/packages/MySQL/3VbD5/src/MySQL.jl:34",
      " [3] Connection",
      "   @ ~/.julia/packages/MySQL/3VbD5/src/MySQL.jl:24 [inlined]",
      " [4] #connect#5",
      "   @ ~/.julia/packages/MySQL/3VbD5/src/MySQL.jl:288 [inlined]",
      " [5] top-level scope",
      "   @ In[7]:1",
      " [6] eval",
      "   @ ./boot.jl:368 [inlined]",
      " [7] include_string(mapexpr::typeof(REPL.softscope), mod::Module, code::String, filename::String)",
      "   @ Base ./loading.jl:1428"
     ]
    }
   ],
   "source": [
    "conn = DBInterface.connect(MySQL.Connection, \"db-mysql-lon1-ac-01-do-user-7425280-0.a.db.ondigitalocean.com\", \"AC-h2m\", \"vfp8hr69picu17h0\", db=\"meteorology\", port=25060)"
   ]
  },
  {
   "cell_type": "code",
   "execution_count": 8,
   "id": "b244ba75",
   "metadata": {},
   "outputs": [],
   "source": [
    "## Query\n",
    "#MySQL.execute!(meteorology, \"SELECT * FROM stations_tst\")"
   ]
  },
  {
   "cell_type": "code",
   "execution_count": 9,
   "id": "34b28633",
   "metadata": {},
   "outputs": [],
   "source": [
    "## Disconnect from the db \n",
    "#DBInterface.close!(conn)\n"
   ]
  }
 ],
 "metadata": {
  "kernelspec": {
   "display_name": "Julia 1.8.0",
   "language": "julia",
   "name": "julia-1.8"
  },
  "language_info": {
   "file_extension": ".jl",
   "mimetype": "application/julia",
   "name": "julia",
   "version": "1.8.0"
  }
 },
 "nbformat": 4,
 "nbformat_minor": 5
}
